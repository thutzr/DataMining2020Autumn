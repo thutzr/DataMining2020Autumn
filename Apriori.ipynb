{
 "cells": [
  {
   "cell_type": "markdown",
   "metadata": {},
   "source": [
    "# 数据挖掘作业-Apriori算法实现\n",
    "> 作者：谭泽人\n",
    "> \n",
    "> 班级：交叉研20\n",
    "> \n",
    "> 学号：2020211335\n",
    "> \n",
    "> 邮箱：tanzr20@mails.tsinghua.edu.cn"
   ]
  },
  {
   "cell_type": "markdown",
   "metadata": {},
   "source": [
    "# Import Libraries\n",
    "`numpy` and `pandas` are used to read csv data. `defaultdict` is a python dictionary that assigns default value to non-exist key, that is, it will not raise error when we put some key that does not exist in dictionary's key list. `chain` and `combinations` are used to generate proper subsets. `sys` and `OptionParser` deal with command line input. `datetime` is used to calculate running time."
   ]
  },
  {
   "cell_type": "code",
   "execution_count": 1,
   "metadata": {},
   "outputs": [],
   "source": [
    "import numpy as np\n",
    "import pandas as pd\n",
    "from collections import defaultdict\n",
    "import sys\n",
    "from optparse import OptionParser\n",
    "from itertools import chain, combinations\n",
    "from datetime import datetime\n",
    "import matplotlib.pyplot as plt"
   ]
  },
  {
   "cell_type": "markdown",
   "metadata": {},
   "source": [
    "# Have a Look at Our Data\n",
    "Each row contains the number of items purchased and the list of items. Item list is useful in our following discussion while the number of items purchased is useless in our computation."
   ]
  },
  {
   "cell_type": "code",
   "execution_count": 2,
   "metadata": {
    "scrolled": true
   },
   "outputs": [
    {
     "data": {
      "text/html": [
       "<div>\n",
       "<style scoped>\n",
       "    .dataframe tbody tr th:only-of-type {\n",
       "        vertical-align: middle;\n",
       "    }\n",
       "\n",
       "    .dataframe tbody tr th {\n",
       "        vertical-align: top;\n",
       "    }\n",
       "\n",
       "    .dataframe thead th {\n",
       "        text-align: right;\n",
       "    }\n",
       "</style>\n",
       "<table border=\"1\" class=\"dataframe\">\n",
       "  <thead>\n",
       "    <tr style=\"text-align: right;\">\n",
       "      <th></th>\n",
       "      <th>Item(s)</th>\n",
       "      <th>Item 1</th>\n",
       "      <th>Item 2</th>\n",
       "      <th>Item 3</th>\n",
       "      <th>Item 4</th>\n",
       "      <th>Item 5</th>\n",
       "      <th>Item 6</th>\n",
       "      <th>Item 7</th>\n",
       "      <th>Item 8</th>\n",
       "      <th>Item 9</th>\n",
       "      <th>...</th>\n",
       "      <th>Item 23</th>\n",
       "      <th>Item 24</th>\n",
       "      <th>Item 25</th>\n",
       "      <th>Item 26</th>\n",
       "      <th>Item 27</th>\n",
       "      <th>Item 28</th>\n",
       "      <th>Item 29</th>\n",
       "      <th>Item 30</th>\n",
       "      <th>Item 31</th>\n",
       "      <th>Item 32</th>\n",
       "    </tr>\n",
       "  </thead>\n",
       "  <tbody>\n",
       "    <tr>\n",
       "      <td>0</td>\n",
       "      <td>4</td>\n",
       "      <td>citrus fruit</td>\n",
       "      <td>semi-finished bread</td>\n",
       "      <td>margarine</td>\n",
       "      <td>ready soups</td>\n",
       "      <td>NaN</td>\n",
       "      <td>NaN</td>\n",
       "      <td>NaN</td>\n",
       "      <td>NaN</td>\n",
       "      <td>NaN</td>\n",
       "      <td>...</td>\n",
       "      <td>NaN</td>\n",
       "      <td>NaN</td>\n",
       "      <td>NaN</td>\n",
       "      <td>NaN</td>\n",
       "      <td>NaN</td>\n",
       "      <td>NaN</td>\n",
       "      <td>NaN</td>\n",
       "      <td>NaN</td>\n",
       "      <td>NaN</td>\n",
       "      <td>NaN</td>\n",
       "    </tr>\n",
       "    <tr>\n",
       "      <td>1</td>\n",
       "      <td>3</td>\n",
       "      <td>tropical fruit</td>\n",
       "      <td>yogurt</td>\n",
       "      <td>coffee</td>\n",
       "      <td>NaN</td>\n",
       "      <td>NaN</td>\n",
       "      <td>NaN</td>\n",
       "      <td>NaN</td>\n",
       "      <td>NaN</td>\n",
       "      <td>NaN</td>\n",
       "      <td>...</td>\n",
       "      <td>NaN</td>\n",
       "      <td>NaN</td>\n",
       "      <td>NaN</td>\n",
       "      <td>NaN</td>\n",
       "      <td>NaN</td>\n",
       "      <td>NaN</td>\n",
       "      <td>NaN</td>\n",
       "      <td>NaN</td>\n",
       "      <td>NaN</td>\n",
       "      <td>NaN</td>\n",
       "    </tr>\n",
       "    <tr>\n",
       "      <td>2</td>\n",
       "      <td>1</td>\n",
       "      <td>whole milk</td>\n",
       "      <td>NaN</td>\n",
       "      <td>NaN</td>\n",
       "      <td>NaN</td>\n",
       "      <td>NaN</td>\n",
       "      <td>NaN</td>\n",
       "      <td>NaN</td>\n",
       "      <td>NaN</td>\n",
       "      <td>NaN</td>\n",
       "      <td>...</td>\n",
       "      <td>NaN</td>\n",
       "      <td>NaN</td>\n",
       "      <td>NaN</td>\n",
       "      <td>NaN</td>\n",
       "      <td>NaN</td>\n",
       "      <td>NaN</td>\n",
       "      <td>NaN</td>\n",
       "      <td>NaN</td>\n",
       "      <td>NaN</td>\n",
       "      <td>NaN</td>\n",
       "    </tr>\n",
       "    <tr>\n",
       "      <td>3</td>\n",
       "      <td>4</td>\n",
       "      <td>pip fruit</td>\n",
       "      <td>yogurt</td>\n",
       "      <td>cream cheese</td>\n",
       "      <td>meat spreads</td>\n",
       "      <td>NaN</td>\n",
       "      <td>NaN</td>\n",
       "      <td>NaN</td>\n",
       "      <td>NaN</td>\n",
       "      <td>NaN</td>\n",
       "      <td>...</td>\n",
       "      <td>NaN</td>\n",
       "      <td>NaN</td>\n",
       "      <td>NaN</td>\n",
       "      <td>NaN</td>\n",
       "      <td>NaN</td>\n",
       "      <td>NaN</td>\n",
       "      <td>NaN</td>\n",
       "      <td>NaN</td>\n",
       "      <td>NaN</td>\n",
       "      <td>NaN</td>\n",
       "    </tr>\n",
       "    <tr>\n",
       "      <td>4</td>\n",
       "      <td>4</td>\n",
       "      <td>other vegetables</td>\n",
       "      <td>whole milk</td>\n",
       "      <td>condensed milk</td>\n",
       "      <td>long life bakery product</td>\n",
       "      <td>NaN</td>\n",
       "      <td>NaN</td>\n",
       "      <td>NaN</td>\n",
       "      <td>NaN</td>\n",
       "      <td>NaN</td>\n",
       "      <td>...</td>\n",
       "      <td>NaN</td>\n",
       "      <td>NaN</td>\n",
       "      <td>NaN</td>\n",
       "      <td>NaN</td>\n",
       "      <td>NaN</td>\n",
       "      <td>NaN</td>\n",
       "      <td>NaN</td>\n",
       "      <td>NaN</td>\n",
       "      <td>NaN</td>\n",
       "      <td>NaN</td>\n",
       "    </tr>\n",
       "  </tbody>\n",
       "</table>\n",
       "<p>5 rows × 33 columns</p>\n",
       "</div>"
      ],
      "text/plain": [
       "   Item(s)            Item 1               Item 2          Item 3  \\\n",
       "0        4      citrus fruit  semi-finished bread       margarine   \n",
       "1        3    tropical fruit               yogurt          coffee   \n",
       "2        1        whole milk                  NaN             NaN   \n",
       "3        4         pip fruit               yogurt    cream cheese   \n",
       "4        4  other vegetables           whole milk  condensed milk   \n",
       "\n",
       "                     Item 4 Item 5 Item 6 Item 7 Item 8 Item 9  ... Item 23  \\\n",
       "0               ready soups    NaN    NaN    NaN    NaN    NaN  ...     NaN   \n",
       "1                       NaN    NaN    NaN    NaN    NaN    NaN  ...     NaN   \n",
       "2                       NaN    NaN    NaN    NaN    NaN    NaN  ...     NaN   \n",
       "3              meat spreads    NaN    NaN    NaN    NaN    NaN  ...     NaN   \n",
       "4  long life bakery product    NaN    NaN    NaN    NaN    NaN  ...     NaN   \n",
       "\n",
       "  Item 24 Item 25 Item 26 Item 27 Item 28 Item 29 Item 30 Item 31 Item 32  \n",
       "0     NaN     NaN     NaN     NaN     NaN     NaN     NaN     NaN     NaN  \n",
       "1     NaN     NaN     NaN     NaN     NaN     NaN     NaN     NaN     NaN  \n",
       "2     NaN     NaN     NaN     NaN     NaN     NaN     NaN     NaN     NaN  \n",
       "3     NaN     NaN     NaN     NaN     NaN     NaN     NaN     NaN     NaN  \n",
       "4     NaN     NaN     NaN     NaN     NaN     NaN     NaN     NaN     NaN  \n",
       "\n",
       "[5 rows x 33 columns]"
      ]
     },
     "execution_count": 2,
     "metadata": {},
     "output_type": "execute_result"
    }
   ],
   "source": [
    "path = 'groceries.csv'\n",
    "transactionData = pd.read_csv(path)\n",
    "transactionData.head(5)"
   ]
  },
  {
   "cell_type": "markdown",
   "metadata": {},
   "source": [
    "# Apriori Algorithm"
   ]
  },
  {
   "cell_type": "code",
   "execution_count": 19,
   "metadata": {},
   "outputs": [],
   "source": [
    "def readDataFromFile(filename):\n",
    "    '''\n",
    "    parameter(s)::\n",
    "        filename: the file name that is going to be read. \n",
    "    return::\n",
    "        a generator contains all transactions\n",
    "    '''\n",
    "    with open(filename,'r') as file:\n",
    "        for line in file:\n",
    "            line = line.rstrip(',\\n')\n",
    "            record = frozenset(line.split(',')[1:])\n",
    "            yield record\n",
    "\n",
    "def getItemSetTransactionList(transactionGenerator):\n",
    "    '''\n",
    "    parameter(s)::\n",
    "        transactionGenerator: a generator contains all transactions\n",
    "    return::\n",
    "        itemSet: the set of items exist in all transactions\n",
    "        transactionList: a python list contains all transactions\n",
    "    '''\n",
    "    itemSet = set()\n",
    "    transactionList = list()\n",
    "    for record in transactionGenerator:\n",
    "        transaction = frozenset(record)\n",
    "        transactionList.append(transaction)\n",
    "        for item in transaction:\n",
    "            itemSet.add(frozenset([item]))\n",
    "            \n",
    "    return itemSet, transactionList\n",
    "\n",
    "def minSupFilter(itemSet,transactionList,minSup,freqDict):\n",
    "    '''\n",
    "    parameter(s)::\n",
    "        itemSet: the set of items exist in all transactions\n",
    "        transactionList: a python list contains all transactions\n",
    "        minSup: the specified minimum support\n",
    "        freqDict: a python dictionary consists of the frequency of some patterns\n",
    "    return::\n",
    "        localItemSet: a python dictionary contains patterns that satisfy the minimum support constraint.\n",
    "    '''\n",
    "    localItemSet = set()\n",
    "    if itemSet == set():\n",
    "        return localItemSet\n",
    "    localFreqDict = defaultdict(int)\n",
    "    for item in itemSet:\n",
    "        for transaction in transactionList:\n",
    "            if item.issubset(transaction):\n",
    "                freqDict[item] += 1\n",
    "                localFreqDict[item] += 1\n",
    "    for item,count in localFreqDict.items():\n",
    "        if count >= minSup:\n",
    "            localItemSet.add(item)\n",
    "    return localItemSet\n",
    "\n",
    "# def generateLkSetWithPrune(LSet,length,transactionList,minSup,freqDict):\n",
    "#     LkSet = set([i.union(j) for i in LSet for j in LSet if len(i.union(j)) == length])\n",
    "#     return minSupFilter(LkSet,transactionList,minSup,freqDict)\n",
    "\n",
    "def generateLkSet(LSet,length):\n",
    "    '''\n",
    "    parameter(s)::\n",
    "        LSet: patterns that has length of length-1\n",
    "        length: the length of target patterns\n",
    "    return::\n",
    "        the set of patterns that have length length\n",
    "    '''\n",
    "    return set([i.union(j) for i in LSet for j in LSet if len(i.union(j))==length])\n",
    "\n",
    "def properSubset(itemSet):\n",
    "    '''\n",
    "    parameter(s)::\n",
    "        itemSet: a set of items\n",
    "    return::\n",
    "        all proper subsets of itemSet\n",
    "    '''\n",
    "    return chain(*[combinations(itemSet, i + 1) for i, a in enumerate(itemSet) if i<len(itemSet)-1])\n",
    "\n",
    "def Apriori(transactionGenerator, minSup, minConf):\n",
    "    '''\n",
    "    parameter(s)::\n",
    "        transactionGenerator: a generator contains all transaction\n",
    "        minSup: minimum support\n",
    "        minConf: minimum confidence\n",
    "    return::\n",
    "        LSetDict: a dictionary consists of patterns of all length that satisfy the minimum support constraint\n",
    "        freqPattern: a python list contains all frequent pattern\n",
    "        associationRule: a python list contains all association rule satisfy minimum support and minimum confidence constraints\n",
    "    '''\n",
    "    itemSet, transactionList = getItemSetTransactionList(transactionGenerator)\n",
    "    freqDict = defaultdict(int)\n",
    "    LOneCandidate = minSupFilter(itemSet,transactionList,minSup,freqDict)\n",
    "    k = 2\n",
    "    LSetDict = dict()\n",
    "    currentLSet = LOneCandidate\n",
    "    while (currentLSet != set()):\n",
    "        LSetDict[k-1] = currentLSet\n",
    "        tempSet = currentLSet\n",
    "        currentLSet = generateLkSet(tempSet,k)\n",
    "        currentCSet = minSupFilter(currentLSet,transactionList,minSup,freqDict)\n",
    "        currentLSet = currentCSet  \n",
    "        k += 1\n",
    "\n",
    "    freqPattern = list()\n",
    "    for key, lset in LSetDict.items():\n",
    "        freqPattern.extend([(set(item),freqDict[item]) for item in lset])\n",
    "    associationRule = list()\n",
    "    for key, lset in list(LSetDict.items())[1:]:\n",
    "        for lseq in lset:\n",
    "            properSubsets = [frozenset(x) for x in properSubset(lseq)]\n",
    "            for item in properSubsets:\n",
    "                if (len(lseq.difference(item))>0):\n",
    "                    conf = freqDict[lseq]/freqDict[item]\n",
    "                    if conf >= minConf:\n",
    "                        associationRule.append([set(item),set(lseq.difference(item)),conf])\n",
    "    return LSetDict, freqPattern,associationRule  "
   ]
  },
  {
   "cell_type": "markdown",
   "metadata": {},
   "source": [
    "# Run Apriori\n",
    "I use the groceries.csv dataset. `minSup` and `minConfidence` are set to be 100 and 0.5, respectively."
   ]
  },
  {
   "cell_type": "code",
   "execution_count": 4,
   "metadata": {},
   "outputs": [
    {
     "name": "stdout",
     "output_type": "stream",
     "text": [
      "Total running time of Apriori with minSup 100, minConf 0.50 is: 7.0000 s\n"
     ]
    }
   ],
   "source": [
    "path = 'groceries.csv'\n",
    "file = readDataFromFile(path)\n",
    "minSup = 100\n",
    "minConf = 0.5\n",
    "t1 = datetime.now()\n",
    "LSetDict, freqPattern, associationRule = Apriori(file,minSup,minConf)\n",
    "t2 = datetime.now()\n",
    "print('Total running time of Apriori with minSup %d, minConf %.2f is: %.4f s' %(minSup,minConf,(t2-t1).seconds))"
   ]
  },
  {
   "cell_type": "markdown",
   "metadata": {},
   "source": [
    "# Save Results\n",
    "I save `freqPattern` and `associationRule` to csv files."
   ]
  },
  {
   "cell_type": "code",
   "execution_count": 5,
   "metadata": {},
   "outputs": [
    {
     "data": {
      "text/html": [
       "<div>\n",
       "<style scoped>\n",
       "    .dataframe tbody tr th:only-of-type {\n",
       "        vertical-align: middle;\n",
       "    }\n",
       "\n",
       "    .dataframe tbody tr th {\n",
       "        vertical-align: top;\n",
       "    }\n",
       "\n",
       "    .dataframe thead th {\n",
       "        text-align: right;\n",
       "    }\n",
       "</style>\n",
       "<table border=\"1\" class=\"dataframe\">\n",
       "  <thead>\n",
       "    <tr style=\"text-align: right;\">\n",
       "      <th></th>\n",
       "      <th>pattern</th>\n",
       "      <th>frequency</th>\n",
       "    </tr>\n",
       "  </thead>\n",
       "  <tbody>\n",
       "    <tr>\n",
       "      <td>0</td>\n",
       "      <td>{shopping bags}</td>\n",
       "      <td>0.098516</td>\n",
       "    </tr>\n",
       "    <tr>\n",
       "      <td>1</td>\n",
       "      <td>{white bread}</td>\n",
       "      <td>0.042090</td>\n",
       "    </tr>\n",
       "    <tr>\n",
       "      <td>2</td>\n",
       "      <td>{salt}</td>\n",
       "      <td>0.010777</td>\n",
       "    </tr>\n",
       "    <tr>\n",
       "      <td>3</td>\n",
       "      <td>{seasonal products}</td>\n",
       "      <td>0.014233</td>\n",
       "    </tr>\n",
       "    <tr>\n",
       "      <td>4</td>\n",
       "      <td>{frozen vegetables}</td>\n",
       "      <td>0.048089</td>\n",
       "    </tr>\n",
       "  </tbody>\n",
       "</table>\n",
       "</div>"
      ],
      "text/plain": [
       "               pattern  frequency\n",
       "0      {shopping bags}   0.098516\n",
       "1        {white bread}   0.042090\n",
       "2               {salt}   0.010777\n",
       "3  {seasonal products}   0.014233\n",
       "4  {frozen vegetables}   0.048089"
      ]
     },
     "execution_count": 5,
     "metadata": {},
     "output_type": "execute_result"
    }
   ],
   "source": [
    "freqPatternDF = pd.DataFrame(freqPattern)\n",
    "freqPatternDF.columns = ['pattern','frequency']\n",
    "freqPatternDF.head(5)"
   ]
  },
  {
   "cell_type": "code",
   "execution_count": 6,
   "metadata": {},
   "outputs": [],
   "source": [
    "freqPatternDF.to_csv('frequentPattern.csv')"
   ]
  },
  {
   "cell_type": "code",
   "execution_count": 7,
   "metadata": {},
   "outputs": [
    {
     "data": {
      "text/html": [
       "<div>\n",
       "<style scoped>\n",
       "    .dataframe tbody tr th:only-of-type {\n",
       "        vertical-align: middle;\n",
       "    }\n",
       "\n",
       "    .dataframe tbody tr th {\n",
       "        vertical-align: top;\n",
       "    }\n",
       "\n",
       "    .dataframe thead th {\n",
       "        text-align: right;\n",
       "    }\n",
       "</style>\n",
       "<table border=\"1\" class=\"dataframe\">\n",
       "  <thead>\n",
       "    <tr style=\"text-align: right;\">\n",
       "      <th></th>\n",
       "      <th>X</th>\n",
       "      <th>Y</th>\n",
       "      <th>confidence</th>\n",
       "    </tr>\n",
       "  </thead>\n",
       "  <tbody>\n",
       "    <tr>\n",
       "      <td>0</td>\n",
       "      <td>{other vegetables, pip fruit}</td>\n",
       "      <td>{whole milk}</td>\n",
       "      <td>0.517510</td>\n",
       "    </tr>\n",
       "    <tr>\n",
       "      <td>1</td>\n",
       "      <td>{other vegetables, whipped/sour cream}</td>\n",
       "      <td>{whole milk}</td>\n",
       "      <td>0.507042</td>\n",
       "    </tr>\n",
       "    <tr>\n",
       "      <td>2</td>\n",
       "      <td>{yogurt, tropical fruit}</td>\n",
       "      <td>{whole milk}</td>\n",
       "      <td>0.517361</td>\n",
       "    </tr>\n",
       "    <tr>\n",
       "      <td>3</td>\n",
       "      <td>{other vegetables, butter}</td>\n",
       "      <td>{whole milk}</td>\n",
       "      <td>0.573604</td>\n",
       "    </tr>\n",
       "    <tr>\n",
       "      <td>4</td>\n",
       "      <td>{yogurt, other vegetables}</td>\n",
       "      <td>{whole milk}</td>\n",
       "      <td>0.512881</td>\n",
       "    </tr>\n",
       "  </tbody>\n",
       "</table>\n",
       "</div>"
      ],
      "text/plain": [
       "                                        X             Y  confidence\n",
       "0           {other vegetables, pip fruit}  {whole milk}    0.517510\n",
       "1  {other vegetables, whipped/sour cream}  {whole milk}    0.507042\n",
       "2                {yogurt, tropical fruit}  {whole milk}    0.517361\n",
       "3              {other vegetables, butter}  {whole milk}    0.573604\n",
       "4              {yogurt, other vegetables}  {whole milk}    0.512881"
      ]
     },
     "execution_count": 7,
     "metadata": {},
     "output_type": "execute_result"
    }
   ],
   "source": [
    "associationRuleDF = pd.DataFrame(associationRule)\n",
    "associationRuleDF.columns = ['X','Y','confidence']\n",
    "associationRuleDF.head(5)"
   ]
  },
  {
   "cell_type": "code",
   "execution_count": 8,
   "metadata": {},
   "outputs": [],
   "source": [
    "associationRuleDF.to_csv('associationRule.csv')"
   ]
  },
  {
   "cell_type": "markdown",
   "metadata": {},
   "source": [
    "# Run Apriori With Different `minSup` and `minConf`\n",
    "## Run With Different `minSup`"
   ]
  },
  {
   "cell_type": "code",
   "execution_count": 21,
   "metadata": {
    "scrolled": true
   },
   "outputs": [
    {
     "name": "stdout",
     "output_type": "stream",
     "text": [
      "Total running time of Apriori with minSup 10, minConf 0.30 is: 479.0000 s\n",
      "Number of Frequent Patterns: 13492\n",
      "Number of Association Rules: 14946\n",
      "Total running time of Apriori with minSup 20, minConf 0.30 is: 172.0000 s\n",
      "Number of Frequent Patterns: 4223\n",
      "Number of Association Rules: 3228\n",
      "Total running time of Apriori with minSup 30, minConf 0.30 is: 80.0000 s\n",
      "Number of Frequent Patterns: 2226\n",
      "Number of Association Rules: 1390\n",
      "Total running time of Apriori with minSup 40, minConf 0.30 is: 46.0000 s\n",
      "Number of Frequent Patterns: 1398\n",
      "Number of Association Rules: 744\n",
      "Total running time of Apriori with minSup 50, minConf 0.30 is: 33.0000 s\n",
      "Number of Frequent Patterns: 1001\n",
      "Number of Association Rules: 487\n",
      "Total running time of Apriori with minSup 60, minConf 0.30 is: 24.0000 s\n",
      "Number of Frequent Patterns: 747\n",
      "Number of Association Rules: 339\n",
      "Total running time of Apriori with minSup 70, minConf 0.30 is: 21.0000 s\n",
      "Number of Frequent Patterns: 579\n",
      "Number of Association Rules: 254\n",
      "Total running time of Apriori with minSup 80, minConf 0.30 is: 15.0000 s\n",
      "Number of Frequent Patterns: 475\n",
      "Number of Association Rules: 201\n",
      "Total running time of Apriori with minSup 90, minConf 0.30 is: 12.0000 s\n",
      "Number of Frequent Patterns: 391\n",
      "Number of Association Rules: 161\n",
      "Total running time of Apriori with minSup 100, minConf 0.30 is: 11.0000 s\n",
      "Number of Frequent Patterns: 326\n",
      "Number of Association Rules: 122\n"
     ]
    }
   ],
   "source": [
    "epochs = 10\n",
    "minConf = 0.3\n",
    "numFreqPatterns = list()\n",
    "numAssociationRules = list()\n",
    "runTime = list()\n",
    "for epoch in range(epochs):\n",
    "    minSup = 10*(epoch+1)\n",
    "    path = 'groceries.csv'\n",
    "    file = readDataFromFile(path)\n",
    "    t1 = datetime.now()\n",
    "    LSetDict, freqPattern, associationRule = Apriori(file,minSup,minConf)\n",
    "    numFreqPatterns.append(len(freqPattern))\n",
    "    numAssociationRules.append(len(associationRule))\n",
    "    t2 = datetime.now()\n",
    "    runTime.append((t2-t1).seconds)\n",
    "    print('Total running time of Apriori with minSup %d, minConf %.2f is: %.4f s' %(minSup,minConf,(t2-t1).seconds))\n",
    "    print('Number of Frequent Patterns: %d' % len(freqPattern))\n",
    "    print('Number of Association Rules: %d' % len(associationRule))"
   ]
  },
  {
   "cell_type": "code",
   "execution_count": 26,
   "metadata": {},
   "outputs": [
    {
     "data": {
      "image/png": "[encoded data removed]",
      "text/plain": [
       "<Figure size 432x288 with 1 Axes>"
      ]
     },
     "metadata": {
      "needs_background": "light"
     },
     "output_type": "display_data"
    }
   ],
   "source": [
    "plt.plot(range(epochs),numFreqPatterns,'-b^')\n",
    "plt.plot(range(epochs),numAssociationRules,'-ro')\n",
    "plt.xticks(range(10),np.array([10*i for i in range(10)],dtype = np.int16))\n",
    "plt.xlabel('minSup')\n",
    "plt.ylabel('Number')\n",
    "plt.title('$minConf = 0.3$')\n",
    "plt.legend(['Frequent Patterns','Association Rules'])\n",
    "plt.savefig('minsup.pdf')"
   ]
  },
  {
   "cell_type": "code",
   "execution_count": 27,
   "metadata": {},
   "outputs": [
    {
     "data": {
      "image/png": "[encoded data removed]",
      "text/plain": [
       "<Figure size 432x288 with 1 Axes>"
      ]
     },
     "metadata": {
      "needs_background": "light"
     },
     "output_type": "display_data"
    }
   ],
   "source": [
    "plt.plot(range(epochs),runTime,'-b^')\n",
    "plt.xticks(range(10),np.array([10*i for i in range(10)],dtype = np.int16))\n",
    "plt.xlabel('minSup')\n",
    "plt.ylabel('Running Time/s')\n",
    "plt.title('$minConf = 0.3$')\n",
    "plt.savefig('timesup.pdf')"
   ]
  },
  {
   "cell_type": "markdown",
   "metadata": {},
   "source": [
    "## Run With Different `minConf`"
   ]
  },
  {
   "cell_type": "code",
   "execution_count": 28,
   "metadata": {
    "scrolled": true
   },
   "outputs": [
    {
     "name": "stdout",
     "output_type": "stream",
     "text": [
      "Total running time of Apriori with minSup 100, minConf 0.10 is: 9.0000 s\n",
      "Number of Frequent Patterns: 326\n",
      "Number of Association Rules: 448\n",
      "Total running time of Apriori with minSup 100, minConf 0.20 is: 9.0000 s\n",
      "Number of Frequent Patterns: 326\n",
      "Number of Association Rules: 230\n",
      "Total running time of Apriori with minSup 100, minConf 0.30 is: 10.0000 s\n",
      "Number of Frequent Patterns: 326\n",
      "Number of Association Rules: 122\n",
      "Total running time of Apriori with minSup 100, minConf 0.40 is: 10.0000 s\n",
      "Number of Frequent Patterns: 326\n",
      "Number of Association Rules: 60\n",
      "Total running time of Apriori with minSup 100, minConf 0.50 is: 10.0000 s\n",
      "Number of Frequent Patterns: 326\n",
      "Number of Association Rules: 14\n",
      "Total running time of Apriori with minSup 100, minConf 0.60 is: 10.0000 s\n",
      "Number of Frequent Patterns: 326\n",
      "Number of Association Rules: 0\n",
      "Total running time of Apriori with minSup 100, minConf 0.70 is: 11.0000 s\n",
      "Number of Frequent Patterns: 326\n",
      "Number of Association Rules: 0\n",
      "Total running time of Apriori with minSup 100, minConf 0.80 is: 14.0000 s\n",
      "Number of Frequent Patterns: 326\n",
      "Number of Association Rules: 0\n",
      "Total running time of Apriori with minSup 100, minConf 0.90 is: 12.0000 s\n",
      "Number of Frequent Patterns: 326\n",
      "Number of Association Rules: 0\n",
      "Total running time of Apriori with minSup 100, minConf 1.00 is: 9.0000 s\n",
      "Number of Frequent Patterns: 326\n",
      "Number of Association Rules: 0\n"
     ]
    }
   ],
   "source": [
    "epochs = 10\n",
    "minSup = 100\n",
    "numFreqPatterns = list()\n",
    "numAssociationRules = list()\n",
    "runTime = list()\n",
    "for epoch in range(epochs):\n",
    "    minConf = 0.1*(epoch+1)\n",
    "    path = 'groceries.csv'\n",
    "    file = readDataFromFile(path)\n",
    "    t1 = datetime.now()\n",
    "    LSetDict, freqPattern, associationRule = Apriori(file,minSup,minConf)\n",
    "    numFreqPatterns.append(len(freqPattern))\n",
    "    numAssociationRules.append(len(associationRule))\n",
    "    t2 = datetime.now()\n",
    "    runTime.append((t2-t1).seconds)\n",
    "    print('Total running time of Apriori with minSup %d, minConf %.2f is: %.4f s' %(minSup,minConf,(t2-t1).seconds))\n",
    "    print('Number of Frequent Patterns: %d' % len(freqPattern))\n",
    "    print('Number of Association Rules: %d' % len(associationRule))"
   ]
  },
  {
   "cell_type": "code",
   "execution_count": 29,
   "metadata": {},
   "outputs": [
    {
     "data": {
      "image/png": "[encoded data removed]",
      "text/plain": [
       "<Figure size 432x288 with 1 Axes>"
      ]
     },
     "metadata": {
      "needs_background": "light"
     },
     "output_type": "display_data"
    }
   ],
   "source": [
    "plt.plot(range(epochs),numFreqPatterns,'-b^')\n",
    "plt.plot(range(epochs),numAssociationRules,'-ro')\n",
    "plt.xticks(range(10),np.array([0.1*i for i in range(10)],dtype = np.float16))\n",
    "plt.xlabel('minConf')\n",
    "plt.ylabel('Number')\n",
    "plt.title('$minsSup = 100$')\n",
    "plt.legend(['Frequent Patterns','Association Rules'])\n",
    "plt.savefig('minconf.pdf')"
   ]
  },
  {
   "cell_type": "code",
   "execution_count": 14,
   "metadata": {},
   "outputs": [
    {
     "data": {
      "text/plain": [
       "Text(0, 0.5, 'Running Time/s')"
      ]
     },
     "execution_count": 14,
     "metadata": {},
     "output_type": "execute_result"
    },
    {
     "data": {
      "image/png": "[encoded data removed]",
      "text/plain": [
       "<Figure size 432x288 with 1 Axes>"
      ]
     },
     "metadata": {
      "needs_background": "light"
     },
     "output_type": "display_data"
    }
   ],
   "source": [
    "plt.plot(range(epochs),runTime,'-b^')\n",
    "plt.xticks(range(10),np.array([0.1*i for i in range(10)],dtype = np.float16))\n",
    "plt.xlabel('minConf')\n",
    "plt.ylabel('Running Time/s')"
   ]
  }
 ],
 "metadata": {
  "kernelspec": {
   "display_name": "Python 3",
   "language": "python",
   "name": "python3"
  },
  "language_info": {
   "codemirror_mode": {
    "name": "ipython",
    "version": 3
   },
   "file_extension": ".py",
   "mimetype": "text/x-python",
   "name": "python",
   "nbconvert_exporter": "python",
   "pygments_lexer": "ipython3",
   "version": "3.7.4"
  }
 },
 "nbformat": 4,
 "nbformat_minor": 2
}
